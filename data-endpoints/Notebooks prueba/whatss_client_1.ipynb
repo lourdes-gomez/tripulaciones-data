{
 "cells": [
  {
   "cell_type": "markdown",
   "metadata": {},
   "source": [
    "## NOTEBOOK PARA DEVOLVER MENSAJE DE INCIDENCIAS RECIBIDAS"
   ]
  },
  {
   "cell_type": "code",
   "execution_count": 2,
   "metadata": {},
   "outputs": [],
   "source": [
    "# pip install pywhatkit"
   ]
  },
  {
   "cell_type": "code",
   "execution_count": null,
   "metadata": {},
   "outputs": [],
   "source": [
    "# PARA QUE ESTO VAYA WHATSAPP WEB TIENE QUE ESTAR EN MARCHA"
   ]
  },
  {
   "cell_type": "code",
   "execution_count": 5,
   "metadata": {},
   "outputs": [
    {
     "name": "stdout",
     "output_type": "stream",
     "text": [
      "In 26 Seconds WhatsApp will open and after 15 Seconds Message will be Delivered!\n"
     ]
    }
   ],
   "source": [
    "import pywhatkit\n",
    " \n",
    "\n",
    "pywhatkit.sendwhatmsg(\"+34639754510\", \n",
    "                      \"Incidencia registrada. Se le informará de posteriores actualizaciones en el estado de su incidencia.\", 18, 49)"
   ]
  },
  {
   "cell_type": "code",
   "execution_count": 1,
   "metadata": {},
   "outputs": [
    {
     "name": "stdout",
     "output_type": "stream",
     "text": [
      "In 18 Seconds WhatsApp will open and after 15 Seconds Message will be Delivered!\n"
     ]
    }
   ],
   "source": [
    "import pywhatkit\n",
    "\n",
    "num_dani = \"+34654193288\"\n",
    "\n",
    "pywhatkit.sendwhatmsg(num_dani, \n",
    "                      \"Incidencia registrada. Se le informará de posteriores actualizaciones en el estado de su incidencia.\", 9, 35)"
   ]
  },
  {
   "cell_type": "code",
   "execution_count": 4,
   "metadata": {},
   "outputs": [
    {
     "name": "stdout",
     "output_type": "stream",
     "text": [
      "In 97 Seconds WhatsApp will open and after 15 Seconds Message will be Delivered!\n"
     ]
    }
   ],
   "source": [
    "import pywhatkit\n",
    "\n",
    "\n",
    "num_dani = '+34' + \"654193288\"\n",
    "\n",
    "fecha_hora = '19:40, 17/1/2024'\n",
    "lista_fh = fecha_hora.split(\":\")\n",
    "\n",
    "hora = int(lista_fh[0])\n",
    "mins = int(lista_fh[1][0:2])\n",
    "\n",
    "pywhatkit.sendwhatmsg(num_dani, \n",
    "                      \"Incidencia registrada. Se le informará de posteriores actualizaciones en el estado de su incidencia.\", hora, mins)"
   ]
  },
  {
   "cell_type": "code",
   "execution_count": 9,
   "metadata": {},
   "outputs": [
    {
     "name": "stdout",
     "output_type": "stream",
     "text": [
      "In 15 Seconds WhatsApp will open and after 15 Seconds Message will be Delivered!\n"
     ]
    }
   ],
   "source": [
    "import pywhatkit\n",
    "\n",
    "num_mama = \"+34648238154\"\n",
    "\n",
    "pywhatkit.sendwhatmsg(num_mama, \n",
    "                      \"Incidencia registrada. Se le informará de posteriores actualizaciones en el estado de su incidencia.\", 18, 58)"
   ]
  }
 ],
 "metadata": {
  "kernelspec": {
   "display_name": "basic_ds",
   "language": "python",
   "name": "python3"
  },
  "language_info": {
   "codemirror_mode": {
    "name": "ipython",
    "version": 3
   },
   "file_extension": ".py",
   "mimetype": "text/x-python",
   "name": "python",
   "nbconvert_exporter": "python",
   "pygments_lexer": "ipython3",
   "version": "3.11.5"
  }
 },
 "nbformat": 4,
 "nbformat_minor": 2
}
