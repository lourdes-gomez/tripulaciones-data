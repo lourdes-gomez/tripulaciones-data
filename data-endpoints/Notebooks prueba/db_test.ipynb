{
 "cells": [
  {
   "cell_type": "markdown",
   "metadata": {},
   "source": [
    "## NOTEBOOK CON DATOS DE PRUEBA PARA ANALIZAR INCIDENCIAS QUE REPORTAN LO MISMO"
   ]
  },
  {
   "cell_type": "code",
   "execution_count": null,
   "metadata": {},
   "outputs": [],
   "source": [
    "# Instalar requirements (en la terminal, activado venv):\n",
    "\n",
    "# pip install -r requirements.txt"
   ]
  },
  {
   "cell_type": "code",
   "execution_count": 3,
   "metadata": {},
   "outputs": [
    {
     "name": "stderr",
     "output_type": "stream",
     "text": [
      "\"pip\" no se reconoce como un comando interno o externo,\n",
      "programa o archivo por lotes ejecutable.\n"
     ]
    }
   ],
   "source": [
    "# !pip install seaborn"
   ]
  },
  {
   "cell_type": "code",
   "execution_count": 4,
   "metadata": {},
   "outputs": [],
   "source": [
    "import pandas as pd\n",
    "import numpy as np\n",
    "import matplotlib.pyplot as plt\n",
    "import seaborn as sns\n"
   ]
  },
  {
   "cell_type": "code",
   "execution_count": 5,
   "metadata": {},
   "outputs": [],
   "source": [
    "from sqlalchemy import create_engine, text"
   ]
  },
  {
   "cell_type": "markdown",
   "metadata": {},
   "source": [
    "____________________________\n"
   ]
  },
  {
   "cell_type": "markdown",
   "metadata": {},
   "source": [
    "### Pruebas SQLite"
   ]
  },
  {
   "cell_type": "code",
   "execution_count": 1,
   "metadata": {},
   "outputs": [],
   "source": [
    "import sqlite3\n",
    "from sqlalchemy import create_engine, text\n",
    "import pandas as pd\n",
    "import numpy as np"
   ]
  },
  {
   "cell_type": "code",
   "execution_count": 2,
   "metadata": {},
   "outputs": [
    {
     "data": {
      "text/plain": [
       "'c:\\\\Users\\\\corre\\\\OneDrive\\\\Escritorio\\\\Desafio\\\\tripulaciones-data\\\\data-endpoints'"
      ]
     },
     "execution_count": 2,
     "metadata": {},
     "output_type": "execute_result"
    }
   ],
   "source": [
    "import os\n",
    "os.getcwd()"
   ]
  },
  {
   "cell_type": "code",
   "execution_count": 3,
   "metadata": {},
   "outputs": [
    {
     "data": {
      "text/plain": [
       "Engine(sqlite:///./bbdd/db_test.db)"
      ]
     },
     "execution_count": 3,
     "metadata": {},
     "output_type": "execute_result"
    }
   ],
   "source": [
    "engine = create_engine(\"sqlite:///./bbdd/db_test.db\")\n",
    "engine"
   ]
  },
  {
   "cell_type": "markdown",
   "metadata": {},
   "source": [
    "HACEMOS UNA TABLA DE PRUEBA DE INCIDENCIAS"
   ]
  },
  {
   "cell_type": "code",
   "execution_count": 4,
   "metadata": {},
   "outputs": [
    {
     "data": {
      "text/html": [
       "<div>\n",
       "<style scoped>\n",
       "    .dataframe tbody tr th:only-of-type {\n",
       "        vertical-align: middle;\n",
       "    }\n",
       "\n",
       "    .dataframe tbody tr th {\n",
       "        vertical-align: top;\n",
       "    }\n",
       "\n",
       "    .dataframe thead th {\n",
       "        text-align: right;\n",
       "    }\n",
       "</style>\n",
       "<table border=\"1\" class=\"dataframe\">\n",
       "  <thead>\n",
       "    <tr style=\"text-align: right;\">\n",
       "      <th></th>\n",
       "      <th>id</th>\n",
       "      <th>num_tlf</th>\n",
       "      <th>date</th>\n",
       "      <th>inc_rec</th>\n",
       "      <th>categ</th>\n",
       "      <th>urg</th>\n",
       "    </tr>\n",
       "  </thead>\n",
       "  <tbody>\n",
       "    <tr>\n",
       "      <th>0</th>\n",
       "      <td>1</td>\n",
       "      <td>657283288</td>\n",
       "      <td>2024-01-17 19:02:22.496844</td>\n",
       "      <td>Buenos días, he notado que el ascensor no está...</td>\n",
       "      <td>Ascensor</td>\n",
       "      <td>NaN</td>\n",
       "    </tr>\n",
       "    <tr>\n",
       "      <th>1</th>\n",
       "      <td>2</td>\n",
       "      <td>675675675</td>\n",
       "      <td>2023-06-15 00:00:00.000000</td>\n",
       "      <td>Lamentablemente, parece que hay una tubería ro...</td>\n",
       "      <td>tupri</td>\n",
       "      <td>3.0</td>\n",
       "    </tr>\n",
       "    <tr>\n",
       "      <th>2</th>\n",
       "      <td>3</td>\n",
       "      <td>456456456</td>\n",
       "      <td>2024-01-17 19:02:22.496844</td>\n",
       "      <td>Me preocupan unas grietas que han aparecido en...</td>\n",
       "      <td>tupri2</td>\n",
       "      <td>1.0</td>\n",
       "    </tr>\n",
       "    <tr>\n",
       "      <th>3</th>\n",
       "      <td>4</td>\n",
       "      <td>656834026</td>\n",
       "      <td>2024-01-17 19:02:22.496844</td>\n",
       "      <td>Hola, el ascensor no funciona</td>\n",
       "      <td>NaN</td>\n",
       "      <td>NaN</td>\n",
       "    </tr>\n",
       "  </tbody>\n",
       "</table>\n",
       "</div>"
      ],
      "text/plain": [
       "   id    num_tlf                       date  \\\n",
       "0   1  657283288 2024-01-17 19:02:22.496844   \n",
       "1   2  675675675 2023-06-15 00:00:00.000000   \n",
       "2   3  456456456 2024-01-17 19:02:22.496844   \n",
       "3   4  656834026 2024-01-17 19:02:22.496844   \n",
       "\n",
       "                                             inc_rec     categ  urg  \n",
       "0  Buenos días, he notado que el ascensor no está...  Ascensor  NaN  \n",
       "1  Lamentablemente, parece que hay una tubería ro...     tupri  3.0  \n",
       "2  Me preocupan unas grietas que han aparecido en...    tupri2  1.0  \n",
       "3                      Hola, el ascensor no funciona       NaN  NaN  "
      ]
     },
     "execution_count": 4,
     "metadata": {},
     "output_type": "execute_result"
    }
   ],
   "source": [
    "import datetime\n",
    "df = pd.DataFrame({\n",
    "    \"id\": [1,2,3,4],\n",
    "    \"num_tlf\": [657283288, 675675675, 456456456, 656834026],\n",
    "    \"date\": [datetime.datetime.now(), datetime.datetime(2023, 6, 15), datetime.datetime.now(), datetime.datetime.now()],\n",
    "    \"inc_rec\": [\"Buenos días, he notado que el ascensor no está funcionando correctamente.\",\n",
    "                \"Lamentablemente, parece que hay una tubería rota en el segundo piso.\",\n",
    "                \"Me preocupan unas grietas que han aparecido en un pilar del sótano.\",\n",
    "                \"Hola, el ascensor no funciona\"],\n",
    "    \"categ\":[\"Ascensor\", \"tupri\", \"tupri2\", np.nan],\n",
    "    \"urg\":[np.nan, 3, 1, np.nan]\n",
    "})\n",
    "df"
   ]
  },
  {
   "cell_type": "markdown",
   "metadata": {},
   "source": [
    "LLEVAMOS LA TABLA A LA BASE DE DATOS"
   ]
  },
  {
   "cell_type": "code",
   "execution_count": 5,
   "metadata": {},
   "outputs": [
    {
     "data": {
      "text/plain": [
       "4"
      ]
     },
     "execution_count": 5,
     "metadata": {},
     "output_type": "execute_result"
    }
   ],
   "source": [
    "df.to_sql(\"inc_table\", con=engine, if_exists=\"replace\")"
   ]
  },
  {
   "cell_type": "code",
   "execution_count": 6,
   "metadata": {},
   "outputs": [
    {
     "data": {
      "text/html": [
       "<div>\n",
       "<style scoped>\n",
       "    .dataframe tbody tr th:only-of-type {\n",
       "        vertical-align: middle;\n",
       "    }\n",
       "\n",
       "    .dataframe tbody tr th {\n",
       "        vertical-align: top;\n",
       "    }\n",
       "\n",
       "    .dataframe thead th {\n",
       "        text-align: right;\n",
       "    }\n",
       "</style>\n",
       "<table border=\"1\" class=\"dataframe\">\n",
       "  <thead>\n",
       "    <tr style=\"text-align: right;\">\n",
       "      <th></th>\n",
       "      <th>index</th>\n",
       "      <th>id</th>\n",
       "      <th>num_tlf</th>\n",
       "      <th>date</th>\n",
       "      <th>inc_rec</th>\n",
       "      <th>categ</th>\n",
       "      <th>urg</th>\n",
       "    </tr>\n",
       "  </thead>\n",
       "  <tbody>\n",
       "    <tr>\n",
       "      <th>0</th>\n",
       "      <td>0</td>\n",
       "      <td>1</td>\n",
       "      <td>657283288</td>\n",
       "      <td>2024-01-17 19:02:22.496844</td>\n",
       "      <td>Buenos días, he notado que el ascensor no está...</td>\n",
       "      <td>Ascensor</td>\n",
       "      <td>NaN</td>\n",
       "    </tr>\n",
       "    <tr>\n",
       "      <th>1</th>\n",
       "      <td>1</td>\n",
       "      <td>2</td>\n",
       "      <td>675675675</td>\n",
       "      <td>2023-06-15 00:00:00.000000</td>\n",
       "      <td>Lamentablemente, parece que hay una tubería ro...</td>\n",
       "      <td>tupri</td>\n",
       "      <td>3.0</td>\n",
       "    </tr>\n",
       "    <tr>\n",
       "      <th>2</th>\n",
       "      <td>2</td>\n",
       "      <td>3</td>\n",
       "      <td>456456456</td>\n",
       "      <td>2024-01-17 19:02:22.496844</td>\n",
       "      <td>Me preocupan unas grietas que han aparecido en...</td>\n",
       "      <td>tupri2</td>\n",
       "      <td>1.0</td>\n",
       "    </tr>\n",
       "    <tr>\n",
       "      <th>3</th>\n",
       "      <td>3</td>\n",
       "      <td>4</td>\n",
       "      <td>656834026</td>\n",
       "      <td>2024-01-17 19:02:22.496844</td>\n",
       "      <td>Hola, el ascensor no funciona</td>\n",
       "      <td>None</td>\n",
       "      <td>NaN</td>\n",
       "    </tr>\n",
       "  </tbody>\n",
       "</table>\n",
       "</div>"
      ],
      "text/plain": [
       "   index  id    num_tlf                        date  \\\n",
       "0      0   1  657283288  2024-01-17 19:02:22.496844   \n",
       "1      1   2  675675675  2023-06-15 00:00:00.000000   \n",
       "2      2   3  456456456  2024-01-17 19:02:22.496844   \n",
       "3      3   4  656834026  2024-01-17 19:02:22.496844   \n",
       "\n",
       "                                             inc_rec     categ  urg  \n",
       "0  Buenos días, he notado que el ascensor no está...  Ascensor  NaN  \n",
       "1  Lamentablemente, parece que hay una tubería ro...     tupri  3.0  \n",
       "2  Me preocupan unas grietas que han aparecido en...    tupri2  1.0  \n",
       "3                      Hola, el ascensor no funciona      None  NaN  "
      ]
     },
     "execution_count": 6,
     "metadata": {},
     "output_type": "execute_result"
    }
   ],
   "source": [
    "query = \"SELECT * FROM inc_table\"\n",
    "\n",
    "pd.read_sql(query, engine)"
   ]
  },
  {
   "cell_type": "code",
   "execution_count": 7,
   "metadata": {},
   "outputs": [
    {
     "data": {
      "text/plain": [
       "Index(['id', 'num_tlf', 'date', 'inc_rec', 'categ', 'urg'], dtype='object')"
      ]
     },
     "execution_count": 7,
     "metadata": {},
     "output_type": "execute_result"
    }
   ],
   "source": [
    "df.columns"
   ]
  },
  {
   "cell_type": "code",
   "execution_count": 8,
   "metadata": {},
   "outputs": [
    {
     "data": {
      "text/plain": [
       "['Buenos días, he notado que el ascensor no está funcionando correctamente.',\n",
       " 'Hola, el ascensor no funciona']"
      ]
     },
     "execution_count": 8,
     "metadata": {},
     "output_type": "execute_result"
    }
   ],
   "source": [
    "query = '''SELECT inc_rec FROM inc_table\n",
    "\n",
    "WHERE (categ IS NULL) OR (urg IS NULL)\n",
    "\n",
    "'''\n",
    "\n",
    "result = pd.read_sql(query, engine).values\n",
    "lista_inc = []\n",
    "\n",
    "for elem in result:\n",
    "    lista_inc.append(elem[0])\n",
    "\n",
    "lista_inc\n"
   ]
  },
  {
   "cell_type": "code",
   "execution_count": 9,
   "metadata": {},
   "outputs": [
    {
     "name": "stdout",
     "output_type": "stream",
     "text": [
      "Buenos días, he notado que el ascensor no está funcionando correctamente.\n",
      "Hola, el ascensor no funciona\n"
     ]
    }
   ],
   "source": [
    "for incidencia in lista_inc:\n",
    "    \n",
    "    print(incidencia)"
   ]
  },
  {
   "cell_type": "markdown",
   "metadata": {},
   "source": [
    "Hacer un bucle for al código de abajo para clasificar cada incidencia de la lista de arriba."
   ]
  },
  {
   "cell_type": "code",
   "execution_count": 10,
   "metadata": {},
   "outputs": [
    {
     "name": "stdout",
     "output_type": "stream",
     "text": [
      "Categoría: Ascensor\n",
      "Urgencia: 4\n"
     ]
    }
   ],
   "source": [
    "import re\n",
    "\n",
    "respuesta_chat = \"Categoría: Ascensor, Urgencia: 4\"\n",
    "\n",
    "# Definir patrones de expresiones regulares\n",
    "patron_categoria = r\"Categoría: (\\w+)\"\n",
    "patron_urgencia = r\"Urgencia: (\\d+)\"\n",
    "\n",
    "# Buscar coincidencias en la cadena\n",
    "match_categoria = re.search(patron_categoria, respuesta_chat)\n",
    "match_urgencia = re.search(patron_urgencia, respuesta_chat)\n",
    "\n",
    "# Extraer información y almacenar en variables\n",
    "categoria = match_categoria.group(1) if match_categoria else None\n",
    "urgencia = int(match_urgencia.group(1)) if match_urgencia else None\n",
    "\n",
    "\n",
    "print(\"Categoría:\", categoria)\n",
    "print(\"Urgencia:\", urgencia)"
   ]
  },
  {
   "cell_type": "code",
   "execution_count": 11,
   "metadata": {},
   "outputs": [
    {
     "data": {
      "text/plain": [
       "'Ascensor'"
      ]
     },
     "execution_count": 11,
     "metadata": {},
     "output_type": "execute_result"
    }
   ],
   "source": [
    "categoria"
   ]
  },
  {
   "cell_type": "code",
   "execution_count": 12,
   "metadata": {},
   "outputs": [
    {
     "data": {
      "text/plain": [
       "'Hola, el ascensor no funciona'"
      ]
     },
     "execution_count": 12,
     "metadata": {},
     "output_type": "execute_result"
    }
   ],
   "source": [
    "incidencia"
   ]
  },
  {
   "cell_type": "code",
   "execution_count": 13,
   "metadata": {},
   "outputs": [
    {
     "name": "stdout",
     "output_type": "stream",
     "text": [
      "Número de filas afectadas: 1\n"
     ]
    }
   ],
   "source": [
    "query = \"\"\"\n",
    "    UPDATE inc_table\n",
    "    SET categ = :categoria, urg = :urgencia\n",
    "    WHERE inc_rec = :incidencia\n",
    "\"\"\"\n",
    "\n",
    "# Ejecuta la expresión de actualización\n",
    "with engine.connect() as connection:\n",
    "    result = connection.execute(text(query), {'categoria': categoria, 'urgencia': urgencia, 'incidencia': incidencia})\n",
    "    # connection.commit()\n",
    "    connection.connection.commit()\n",
    "    print(f\"Número de filas afectadas: {result.rowcount}\")"
   ]
  },
  {
   "cell_type": "code",
   "execution_count": 14,
   "metadata": {},
   "outputs": [
    {
     "data": {
      "text/plain": [
       "True"
      ]
     },
     "execution_count": 14,
     "metadata": {},
     "output_type": "execute_result"
    }
   ],
   "source": [
    "df[\"inc_rec\"][3] == incidencia"
   ]
  },
  {
   "cell_type": "markdown",
   "metadata": {},
   "source": [
    "________________"
   ]
  },
  {
   "cell_type": "markdown",
   "metadata": {},
   "source": [
    "***LA TABLA***"
   ]
  },
  {
   "cell_type": "code",
   "execution_count": 20,
   "metadata": {},
   "outputs": [
    {
     "data": {
      "text/html": [
       "<div>\n",
       "<style scoped>\n",
       "    .dataframe tbody tr th:only-of-type {\n",
       "        vertical-align: middle;\n",
       "    }\n",
       "\n",
       "    .dataframe tbody tr th {\n",
       "        vertical-align: top;\n",
       "    }\n",
       "\n",
       "    .dataframe thead th {\n",
       "        text-align: right;\n",
       "    }\n",
       "</style>\n",
       "<table border=\"1\" class=\"dataframe\">\n",
       "  <thead>\n",
       "    <tr style=\"text-align: right;\">\n",
       "      <th></th>\n",
       "      <th>index</th>\n",
       "      <th>id</th>\n",
       "      <th>num_tlf</th>\n",
       "      <th>date</th>\n",
       "      <th>inc_rec</th>\n",
       "      <th>categ</th>\n",
       "      <th>urg</th>\n",
       "    </tr>\n",
       "  </thead>\n",
       "  <tbody>\n",
       "    <tr>\n",
       "      <th>0</th>\n",
       "      <td>0</td>\n",
       "      <td>1</td>\n",
       "      <td>657283288</td>\n",
       "      <td>2024-01-17 19:02:22.496844</td>\n",
       "      <td>Buenos días, he notado que el ascensor no está...</td>\n",
       "      <td>Ascensor</td>\n",
       "      <td>NaN</td>\n",
       "    </tr>\n",
       "    <tr>\n",
       "      <th>1</th>\n",
       "      <td>1</td>\n",
       "      <td>2</td>\n",
       "      <td>675675675</td>\n",
       "      <td>2023-06-15 00:00:00.000000</td>\n",
       "      <td>Lamentablemente, parece que hay una tubería ro...</td>\n",
       "      <td>tupri</td>\n",
       "      <td>3.0</td>\n",
       "    </tr>\n",
       "    <tr>\n",
       "      <th>2</th>\n",
       "      <td>2</td>\n",
       "      <td>3</td>\n",
       "      <td>456456456</td>\n",
       "      <td>2024-01-17 19:02:22.496844</td>\n",
       "      <td>Me preocupan unas grietas que han aparecido en...</td>\n",
       "      <td>tupri2</td>\n",
       "      <td>1.0</td>\n",
       "    </tr>\n",
       "    <tr>\n",
       "      <th>3</th>\n",
       "      <td>3</td>\n",
       "      <td>4</td>\n",
       "      <td>656834026</td>\n",
       "      <td>2024-01-17 19:02:22.496844</td>\n",
       "      <td>Hola, el ascensor no funciona</td>\n",
       "      <td>Ascensor</td>\n",
       "      <td>4.0</td>\n",
       "    </tr>\n",
       "  </tbody>\n",
       "</table>\n",
       "</div>"
      ],
      "text/plain": [
       "   index  id    num_tlf                        date  \\\n",
       "0      0   1  657283288  2024-01-17 19:02:22.496844   \n",
       "1      1   2  675675675  2023-06-15 00:00:00.000000   \n",
       "2      2   3  456456456  2024-01-17 19:02:22.496844   \n",
       "3      3   4  656834026  2024-01-17 19:02:22.496844   \n",
       "\n",
       "                                             inc_rec     categ  urg  \n",
       "0  Buenos días, he notado que el ascensor no está...  Ascensor  NaN  \n",
       "1  Lamentablemente, parece que hay una tubería ro...     tupri  3.0  \n",
       "2  Me preocupan unas grietas que han aparecido en...    tupri2  1.0  \n",
       "3                      Hola, el ascensor no funciona  Ascensor  4.0  "
      ]
     },
     "execution_count": 20,
     "metadata": {},
     "output_type": "execute_result"
    }
   ],
   "source": [
    "query = \"SELECT * FROM inc_table\"\n",
    "\n",
    "pd.read_sql(query, engine)"
   ]
  },
  {
   "cell_type": "markdown",
   "metadata": {},
   "source": [
    "### COMPROBACION DE QUE DOS PERSONAS O MAS ESTEN REPORTANDO EL MISMO PROBLEMA\n"
   ]
  },
  {
   "cell_type": "markdown",
   "metadata": {},
   "source": [
    "Con esta query cogemos los numeros de telefono que tengan una incidencia con la misma categoria y fecha y luego miramos su ubicación\n"
   ]
  },
  {
   "cell_type": "code",
   "execution_count": 19,
   "metadata": {},
   "outputs": [
    {
     "data": {
      "text/html": [
       "<div>\n",
       "<style scoped>\n",
       "    .dataframe tbody tr th:only-of-type {\n",
       "        vertical-align: middle;\n",
       "    }\n",
       "\n",
       "    .dataframe tbody tr th {\n",
       "        vertical-align: top;\n",
       "    }\n",
       "\n",
       "    .dataframe thead th {\n",
       "        text-align: right;\n",
       "    }\n",
       "</style>\n",
       "<table border=\"1\" class=\"dataframe\">\n",
       "  <thead>\n",
       "    <tr style=\"text-align: right;\">\n",
       "      <th></th>\n",
       "      <th>Dirección</th>\n",
       "    </tr>\n",
       "  </thead>\n",
       "  <tbody>\n",
       "    <tr>\n",
       "      <th>0</th>\n",
       "      <td>Plaza Falsa 67, 46002 Valencia, España</td>\n",
       "    </tr>\n",
       "    <tr>\n",
       "      <th>1</th>\n",
       "      <td>Plaza Falsa 67, 46002 Valencia, España</td>\n",
       "    </tr>\n",
       "  </tbody>\n",
       "</table>\n",
       "</div>"
      ],
      "text/plain": [
       "                                Dirección\n",
       "0  Plaza Falsa 67, 46002 Valencia, España\n",
       "1  Plaza Falsa 67, 46002 Valencia, España"
      ]
     },
     "execution_count": 19,
     "metadata": {},
     "output_type": "execute_result"
    }
   ],
   "source": [
    "query = \"\"\"\n",
    "        SELECT Dirección \n",
    "FROM info_table\n",
    "WHERE Teléfono IN (SELECT num_tlf \n",
    "                  FROM inc_table\n",
    "                  WHERE DATE(date) = (SELECT DATE(MAX(date)) FROM inc_table)\n",
    "                    AND categ = (SELECT categ FROM inc_table ORDER BY date DESC LIMIT 1));\n",
    "\n",
    "        \"\"\"\n",
    "\n",
    "direcciones_tlf=pd.read_sql(query, engine)\n",
    "direcciones_tlf"
   ]
  },
  {
   "cell_type": "code",
   "execution_count": 156,
   "metadata": {},
   "outputs": [
    {
     "data": {
      "text/plain": [
       "True"
      ]
     },
     "execution_count": 156,
     "metadata": {},
     "output_type": "execute_result"
    }
   ],
   "source": [
    "# Comprobamos que los dos numeros de tlf esten en la misma direccion\n",
    "direcciones_tlf['Dirección'][0]==direcciones_tlf['Dirección'][1]"
   ]
  },
  {
   "cell_type": "markdown",
   "metadata": {},
   "source": [
    "Y AL VER QUE ESTO ES TRUE HABRIA QUE HACER UN CODIGO QUE MUESTRE EN LA APLICACION SOLO EL PRIMER MENSAJE"
   ]
  }
 ],
 "metadata": {
  "kernelspec": {
   "display_name": "venv",
   "language": "python",
   "name": "python3"
  },
  "language_info": {
   "codemirror_mode": {
    "name": "ipython",
    "version": 3
   },
   "file_extension": ".py",
   "mimetype": "text/x-python",
   "name": "python",
   "nbconvert_exporter": "python",
   "pygments_lexer": "ipython3",
   "version": "3.10.9"
  }
 },
 "nbformat": 4,
 "nbformat_minor": 2
}
