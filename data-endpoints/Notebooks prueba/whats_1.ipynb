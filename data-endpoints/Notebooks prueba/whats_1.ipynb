{
 "cells": [
  {
   "cell_type": "markdown",
   "metadata": {},
   "source": [
    "### COGER NUMERO DE TELEFONO Y MENSAJE"
   ]
  },
  {
   "cell_type": "code",
   "execution_count": 8,
   "metadata": {},
   "outputs": [],
   "source": [
    "# pip install whatsapp-web"
   ]
  },
  {
   "cell_type": "code",
   "execution_count": 9,
   "metadata": {},
   "outputs": [],
   "source": [
    "# pip install selenium"
   ]
  },
  {
   "cell_type": "code",
   "execution_count": 65,
   "metadata": {},
   "outputs": [],
   "source": [
    "import time\n",
    "\n",
    "from selenium import webdriver\n",
    "\n",
    "from simon.accounts.pages import LoginPage\n",
    "from simon.chat.pages import ChatPage\n",
    "from simon.chats.pages import PanePage\n",
    "from simon.header.pages import HeaderPage"
   ]
  },
  {
   "cell_type": "code",
   "execution_count": 66,
   "metadata": {},
   "outputs": [],
   "source": [
    "\n",
    "# Creating the driver (browser)\n",
    "driver = webdriver.Chrome()\n",
    "driver.maximize_window()\n",
    "# 1. Login\n",
    "#       and uncheck the remember check box\n",
    "#       (Get your phone ready to read the QR code)\n",
    "login_page = LoginPage(driver)\n",
    "login_page.load()\n",
    "# login_page.remember_me = False\n",
    "time.sleep(7)\n",
    "\n"
   ]
  },
  {
   "cell_type": "code",
   "execution_count": 58,
   "metadata": {},
   "outputs": [
    {
     "name": "stdout",
     "output_type": "stream",
     "text": [
      "Dani Bootcamp\n"
     ]
    }
   ],
   "source": [
    "for chat in [x for x in driver.find_elements(by=\"class name\", value=\"_21S-L\")]:\n",
    "    if chat.text  == \"Dani Bootcamp\":\n",
    "        print(chat.text)\n",
    "        chat.click()\n",
    "        break"
   ]
  },
  {
   "cell_type": "code",
   "execution_count": 46,
   "metadata": {},
   "outputs": [
    {
     "name": "stdout",
     "output_type": "stream",
     "text": [
      "+34 687 56 36 61\n"
     ]
    }
   ],
   "source": [
    "for chat in [x for x in driver.find_elements(by=\"class name\", value=\"_21S-L\")]:\n",
    "    if chat.text  == \"+34 687 56 36 61\":\n",
    "        print(chat.text)\n",
    "        chat.click()\n",
    "        break"
   ]
  },
  {
   "cell_type": "code",
   "execution_count": 67,
   "metadata": {},
   "outputs": [
    {
     "name": "stdout",
     "output_type": "stream",
     "text": [
      "+34 654 19 32 88\n"
     ]
    }
   ],
   "source": [
    "for chat in [x for x in driver.find_elements(by=\"class name\", value=\"_21S-L\")]:\n",
    "        if chat.text  == \"+34 654 19 32 88\":\n",
    "            print(chat.text)\n",
    "            chat.click()\n",
    "            break"
   ]
  },
  {
   "cell_type": "code",
   "execution_count": 51,
   "metadata": {},
   "outputs": [
    {
     "name": "stdout",
     "output_type": "stream",
     "text": [
      "+34 687 56 36 61\n"
     ]
    },
    {
     "ename": "ElementClickInterceptedException",
     "evalue": "Message: element click intercepted: Element <div class=\"_21S-L\">...</div> is not clickable at point (249, 665). Other element would receive the click: <div class=\"tvf2evcx m0h2a7mj lb5m6g5c j7l1k36l ktfrpxia nu7pwgvd i86elurf dnb887gk gjuq5ydh i2cterl7 s1e5xcja sap93d0t gndfcl4n htm4ouj2\">...</div>\n  (Session info: chrome=120.0.6099.217)\nStacktrace:\n\tGetHandleVerifier [0x00007FF621502142+3514994]\n\t(No symbol) [0x00007FF621120CE2]\n\t(No symbol) [0x00007FF620FC76AA]\n\t(No symbol) [0x00007FF6210188F3]\n\t(No symbol) [0x00007FF6210168ED]\n\t(No symbol) [0x00007FF6210140EC]\n\t(No symbol) [0x00007FF621012EA5]\n\t(No symbol) [0x00007FF621006A0F]\n\t(No symbol) [0x00007FF621035FEA]\n\t(No symbol) [0x00007FF6210063B6]\n\t(No symbol) [0x00007FF621036490]\n\t(No symbol) [0x00007FF6210528F6]\n\t(No symbol) [0x00007FF621035D93]\n\t(No symbol) [0x00007FF621004BDC]\n\t(No symbol) [0x00007FF621005C64]\n\tGetHandleVerifier [0x00007FF62152E16B+3695259]\n\tGetHandleVerifier [0x00007FF621586737+4057191]\n\tGetHandleVerifier [0x00007FF62157E4E3+4023827]\n\tGetHandleVerifier [0x00007FF6212504F9+689705]\n\t(No symbol) [0x00007FF62112C048]\n\t(No symbol) [0x00007FF621128044]\n\t(No symbol) [0x00007FF6211281C9]\n\t(No symbol) [0x00007FF6211188C4]\n\tBaseThreadInitThunk [0x00007FFEC7F9257D+29]\n\tRtlUserThreadStart [0x00007FFEC8E0AA58+40]\n",
     "output_type": "error",
     "traceback": [
      "\u001b[1;31m---------------------------------------------------------------------------\u001b[0m",
      "\u001b[1;31mElementClickInterceptedException\u001b[0m          Traceback (most recent call last)",
      "Cell \u001b[1;32mIn[51], line 13\u001b[0m\n\u001b[0;32m     11\u001b[0m     \u001b[38;5;28;01mif\u001b[39;00m chat\u001b[38;5;241m.\u001b[39mtext \u001b[38;5;241m==\u001b[39m \u001b[38;5;124m\"\u001b[39m\u001b[38;5;124m+34 687 56 36 61\u001b[39m\u001b[38;5;124m\"\u001b[39m:\n\u001b[0;32m     12\u001b[0m         \u001b[38;5;28mprint\u001b[39m(chat\u001b[38;5;241m.\u001b[39mtext)\n\u001b[1;32m---> 13\u001b[0m         \u001b[43mchat\u001b[49m\u001b[38;5;241;43m.\u001b[39;49m\u001b[43mclick\u001b[49m\u001b[43m(\u001b[49m\u001b[43m)\u001b[49m\n\u001b[0;32m     14\u001b[0m         \u001b[38;5;66;03m# break\u001b[39;00m\n\u001b[0;32m     15\u001b[0m \u001b[38;5;28;01melse\u001b[39;00m:\n\u001b[0;32m     16\u001b[0m     \u001b[38;5;66;03m# Si no se encuentra el chat, realizar scroll hacia el último chat\u001b[39;00m\n\u001b[0;32m     17\u001b[0m     last_chat \u001b[38;5;241m=\u001b[39m chats[\u001b[38;5;241m-\u001b[39m\u001b[38;5;241m1\u001b[39m]\n",
      "File \u001b[1;32mc:\\Users\\APint\\Documents\\Data Science\\Bootcamp EDEM_The Bridge\\Core_VLC\\Carpeta de trabajo\\Desafio_tripulaciones\\scripts\\data-endpoints\\venv\\Lib\\site-packages\\selenium\\webdriver\\remote\\webelement.py:94\u001b[0m, in \u001b[0;36mWebElement.click\u001b[1;34m(self)\u001b[0m\n\u001b[0;32m     92\u001b[0m \u001b[38;5;28;01mdef\u001b[39;00m \u001b[38;5;21mclick\u001b[39m(\u001b[38;5;28mself\u001b[39m) \u001b[38;5;241m-\u001b[39m\u001b[38;5;241m>\u001b[39m \u001b[38;5;28;01mNone\u001b[39;00m:\n\u001b[0;32m     93\u001b[0m \u001b[38;5;250m    \u001b[39m\u001b[38;5;124;03m\"\"\"Clicks the element.\"\"\"\u001b[39;00m\n\u001b[1;32m---> 94\u001b[0m     \u001b[38;5;28;43mself\u001b[39;49m\u001b[38;5;241;43m.\u001b[39;49m\u001b[43m_execute\u001b[49m\u001b[43m(\u001b[49m\u001b[43mCommand\u001b[49m\u001b[38;5;241;43m.\u001b[39;49m\u001b[43mCLICK_ELEMENT\u001b[49m\u001b[43m)\u001b[49m\n",
      "File \u001b[1;32mc:\\Users\\APint\\Documents\\Data Science\\Bootcamp EDEM_The Bridge\\Core_VLC\\Carpeta de trabajo\\Desafio_tripulaciones\\scripts\\data-endpoints\\venv\\Lib\\site-packages\\selenium\\webdriver\\remote\\webelement.py:395\u001b[0m, in \u001b[0;36mWebElement._execute\u001b[1;34m(self, command, params)\u001b[0m\n\u001b[0;32m    393\u001b[0m     params \u001b[38;5;241m=\u001b[39m {}\n\u001b[0;32m    394\u001b[0m params[\u001b[38;5;124m\"\u001b[39m\u001b[38;5;124mid\u001b[39m\u001b[38;5;124m\"\u001b[39m] \u001b[38;5;241m=\u001b[39m \u001b[38;5;28mself\u001b[39m\u001b[38;5;241m.\u001b[39m_id\n\u001b[1;32m--> 395\u001b[0m \u001b[38;5;28;01mreturn\u001b[39;00m \u001b[38;5;28;43mself\u001b[39;49m\u001b[38;5;241;43m.\u001b[39;49m\u001b[43m_parent\u001b[49m\u001b[38;5;241;43m.\u001b[39;49m\u001b[43mexecute\u001b[49m\u001b[43m(\u001b[49m\u001b[43mcommand\u001b[49m\u001b[43m,\u001b[49m\u001b[43m \u001b[49m\u001b[43mparams\u001b[49m\u001b[43m)\u001b[49m\n",
      "File \u001b[1;32mc:\\Users\\APint\\Documents\\Data Science\\Bootcamp EDEM_The Bridge\\Core_VLC\\Carpeta de trabajo\\Desafio_tripulaciones\\scripts\\data-endpoints\\venv\\Lib\\site-packages\\selenium\\webdriver\\remote\\webdriver.py:348\u001b[0m, in \u001b[0;36mWebDriver.execute\u001b[1;34m(self, driver_command, params)\u001b[0m\n\u001b[0;32m    346\u001b[0m response \u001b[38;5;241m=\u001b[39m \u001b[38;5;28mself\u001b[39m\u001b[38;5;241m.\u001b[39mcommand_executor\u001b[38;5;241m.\u001b[39mexecute(driver_command, params)\n\u001b[0;32m    347\u001b[0m \u001b[38;5;28;01mif\u001b[39;00m response:\n\u001b[1;32m--> 348\u001b[0m     \u001b[38;5;28;43mself\u001b[39;49m\u001b[38;5;241;43m.\u001b[39;49m\u001b[43merror_handler\u001b[49m\u001b[38;5;241;43m.\u001b[39;49m\u001b[43mcheck_response\u001b[49m\u001b[43m(\u001b[49m\u001b[43mresponse\u001b[49m\u001b[43m)\u001b[49m\n\u001b[0;32m    349\u001b[0m     response[\u001b[38;5;124m\"\u001b[39m\u001b[38;5;124mvalue\u001b[39m\u001b[38;5;124m\"\u001b[39m] \u001b[38;5;241m=\u001b[39m \u001b[38;5;28mself\u001b[39m\u001b[38;5;241m.\u001b[39m_unwrap_value(response\u001b[38;5;241m.\u001b[39mget(\u001b[38;5;124m\"\u001b[39m\u001b[38;5;124mvalue\u001b[39m\u001b[38;5;124m\"\u001b[39m, \u001b[38;5;28;01mNone\u001b[39;00m))\n\u001b[0;32m    350\u001b[0m     \u001b[38;5;28;01mreturn\u001b[39;00m response\n",
      "File \u001b[1;32mc:\\Users\\APint\\Documents\\Data Science\\Bootcamp EDEM_The Bridge\\Core_VLC\\Carpeta de trabajo\\Desafio_tripulaciones\\scripts\\data-endpoints\\venv\\Lib\\site-packages\\selenium\\webdriver\\remote\\errorhandler.py:229\u001b[0m, in \u001b[0;36mErrorHandler.check_response\u001b[1;34m(self, response)\u001b[0m\n\u001b[0;32m    227\u001b[0m         alert_text \u001b[38;5;241m=\u001b[39m value[\u001b[38;5;124m\"\u001b[39m\u001b[38;5;124malert\u001b[39m\u001b[38;5;124m\"\u001b[39m]\u001b[38;5;241m.\u001b[39mget(\u001b[38;5;124m\"\u001b[39m\u001b[38;5;124mtext\u001b[39m\u001b[38;5;124m\"\u001b[39m)\n\u001b[0;32m    228\u001b[0m     \u001b[38;5;28;01mraise\u001b[39;00m exception_class(message, screen, stacktrace, alert_text)  \u001b[38;5;66;03m# type: ignore[call-arg]  # mypy is not smart enough here\u001b[39;00m\n\u001b[1;32m--> 229\u001b[0m \u001b[38;5;28;01mraise\u001b[39;00m exception_class(message, screen, stacktrace)\n",
      "\u001b[1;31mElementClickInterceptedException\u001b[0m: Message: element click intercepted: Element <div class=\"_21S-L\">...</div> is not clickable at point (249, 665). Other element would receive the click: <div class=\"tvf2evcx m0h2a7mj lb5m6g5c j7l1k36l ktfrpxia nu7pwgvd i86elurf dnb887gk gjuq5ydh i2cterl7 s1e5xcja sap93d0t gndfcl4n htm4ouj2\">...</div>\n  (Session info: chrome=120.0.6099.217)\nStacktrace:\n\tGetHandleVerifier [0x00007FF621502142+3514994]\n\t(No symbol) [0x00007FF621120CE2]\n\t(No symbol) [0x00007FF620FC76AA]\n\t(No symbol) [0x00007FF6210188F3]\n\t(No symbol) [0x00007FF6210168ED]\n\t(No symbol) [0x00007FF6210140EC]\n\t(No symbol) [0x00007FF621012EA5]\n\t(No symbol) [0x00007FF621006A0F]\n\t(No symbol) [0x00007FF621035FEA]\n\t(No symbol) [0x00007FF6210063B6]\n\t(No symbol) [0x00007FF621036490]\n\t(No symbol) [0x00007FF6210528F6]\n\t(No symbol) [0x00007FF621035D93]\n\t(No symbol) [0x00007FF621004BDC]\n\t(No symbol) [0x00007FF621005C64]\n\tGetHandleVerifier [0x00007FF62152E16B+3695259]\n\tGetHandleVerifier [0x00007FF621586737+4057191]\n\tGetHandleVerifier [0x00007FF62157E4E3+4023827]\n\tGetHandleVerifier [0x00007FF6212504F9+689705]\n\t(No symbol) [0x00007FF62112C048]\n\t(No symbol) [0x00007FF621128044]\n\t(No symbol) [0x00007FF6211281C9]\n\t(No symbol) [0x00007FF6211188C4]\n\tBaseThreadInitThunk [0x00007FFEC7F9257D+29]\n\tRtlUserThreadStart [0x00007FFEC8E0AA58+40]\n"
     ]
    }
   ],
   "source": [
    "# Este scroll casi funciona\n",
    "\n",
    "from selenium.webdriver.common.by import By\n",
    "from selenium.webdriver.support.ui import WebDriverWait\n",
    "from selenium.webdriver.support import expected_conditions as EC\n",
    "\n",
    "while True:\n",
    "    # Buscar todos los elementos de chat\n",
    "    chats = driver.find_elements(by=\"class name\", value=\"_21S-L\")\n",
    "\n",
    "    # Verificar si alguno de los chats tiene el texto deseado\n",
    "    for chat in chats:\n",
    "        if chat.text == \"+34 687 56 36 61\":\n",
    "            print(chat.text)\n",
    "            chat.click()\n",
    "            # break\n",
    "    else:\n",
    "        # Si no se encuentra el chat, realizar scroll hacia el último chat\n",
    "        last_chat = chats[-1]\n",
    "        driver.execute_script(\"arguments[0].scrollIntoView();\", last_chat)\n",
    "\n",
    "        # Esperar a que los nuevos elementos se carguen después del scroll\n",
    "        WebDriverWait(driver, 10).until(\n",
    "            EC.presence_of_all_elements_located((By.CLASS_NAME, \"_21S-L\"))\n",
    "        )\n",
    "\n",
    "        # Continuar con el próximo bucle\n",
    "        continue\n",
    "\n",
    "    # Si se encuentra el chat y se hace clic, salir del bucle\n",
    "    break\n"
   ]
  },
  {
   "cell_type": "code",
   "execution_count": 21,
   "metadata": {},
   "outputs": [
    {
     "name": "stdout",
     "output_type": "stream",
     "text": [
      "Dani Bootcamp\n",
      "Dani Bootcamp\n"
     ]
    }
   ],
   "source": [
    "for msg in [x for x in driver.find_elements(by=\"css selector\", value=\"div._1BOF7 div\")]:\n",
    "    if msg.get_property(\"role\") == \"\":\n",
    "        print(msg.text)"
   ]
  },
  {
   "cell_type": "code",
   "execution_count": 15,
   "metadata": {},
   "outputs": [],
   "source": [
    "# for msg in [x for x in driver.find_elements(by=\"css selector\", value=\"div._1BOF7 span\")]:\n",
    "#     print(msg)"
   ]
  },
  {
   "cell_type": "code",
   "execution_count": 54,
   "metadata": {},
   "outputs": [
    {
     "data": {
      "text/plain": [
       "'https://app.powerbi.com/reportEmbed?reportId=87b0ae65-5ac9-41f5-b4c2-e4ea10f01c50&autoAuth=true&ctid=a06d50a5-a681-470a-b9e3-13d6353bc9c8'"
      ]
     },
     "execution_count": 54,
     "metadata": {},
     "output_type": "execute_result"
    }
   ],
   "source": [
    "mensajes = []\n",
    "\n",
    "for msg in [x for x in driver.find_elements(by=\"css selector\", value=\"div._1BOF7 span\")]:\n",
    "    if msg.get_property(\"dir\") == \"ltr\":\n",
    "        mensajes.append(msg.text)\n",
    "        # print(msg.text)\n",
    "    \n",
    "# Print del último mensaje:\n",
    "ult_mensaje = mensajes[-1]\n",
    "ult_mensaje\n",
    "    "
   ]
  },
  {
   "cell_type": "code",
   "execution_count": 57,
   "metadata": {},
   "outputs": [
    {
     "name": "stdout",
     "output_type": "stream",
     "text": [
      "11:58, 17/1/2024\n"
     ]
    }
   ],
   "source": [
    "import re\n",
    "\n",
    "horas = []\n",
    "\n",
    "for msg in driver.find_elements(by=\"css selector\", value=\"div.copyable-text\"):\n",
    "    horas.append(msg.get_attribute(\"data-pre-plain-text\"))\n",
    "    # print(msg.get_attribute(\"data-pre-plain-text\"))\n",
    "\n",
    "# print(horas[-1])\n",
    "\n",
    "ult_fecha_hora = horas[-1]\n",
    "\n",
    "# fecha_hora_str = '[9:35, 17/1/2024]'\n",
    "\n",
    "inicio = ult_fecha_hora.find('[') + 1\n",
    "fin = ult_fecha_hora.find(']')\n",
    "fecha_hora = ult_fecha_hora[inicio:fin]\n",
    "\n",
    "print(fecha_hora)\n",
    "\n",
    "# Fecha y hora del último mensaje:\n",
    "# ult_hora = horas[-1].replace(\"[\", \"\")[0:5]\n",
    "# ult_fecha = horas[-1].replace(\"[\", \"\")[7:16]\n",
    "\n",
    "# print(resultado)\n"
   ]
  },
  {
   "cell_type": "code",
   "execution_count": 26,
   "metadata": {},
   "outputs": [
    {
     "data": {
      "text/plain": [
       "[]"
      ]
     },
     "execution_count": 26,
     "metadata": {},
     "output_type": "execute_result"
    }
   ],
   "source": [
    "datos = []\n",
    "\n",
    "for msg in [x for x in driver.find_elements(by=\"css selector\", value=\"div.Mk0Bp._30scZ\")]:\n",
    "    if msg.get_property(\"dir\") == \"ltr\":\n",
    "        mensajes.append(msg.text)\n",
    "        print(msg.text)\n",
    "    \n",
    "# Print del último mensaje:\n",
    "# ult_mensaje = mensajes[-1]\n",
    "# ult_mensaje\n",
    "\n",
    "datos\n"
   ]
  },
  {
   "cell_type": "code",
   "execution_count": 64,
   "metadata": {},
   "outputs": [
    {
     "name": "stdout",
     "output_type": "stream",
     "text": [
      "['Bueno santander aun no es seguro', 'ya', 'mirate bien que hacen los de auren esos', 'Pero creo q me sigue molando mas santander', 'Creo', 'A ver q me cuentan', 'si si', 'Incidencia registrada. Se le informará de posteriores actualizaciones en el estado de su incidencia.', 'ay vale', 'Microsoft Power BI', 'app.powerbi.com', 'https://app.powerbi.com/reportEmbed?reportId=87b0ae65-5ac9-41f5-b4c2-e4ea10f01c50&autoAuth=true&ctid=a06d50a5-a681-470a-b9e3-13d6353bc9c8', 'Hola', 'Diferentes']\n"
     ]
    },
    {
     "data": {
      "text/plain": [
       "'Diferentes'"
      ]
     },
     "execution_count": 64,
     "metadata": {},
     "output_type": "execute_result"
    }
   ],
   "source": [
    "for msg in [x for x in driver.find_elements(by=\"css selector\", value=\"div._1BOF7 span\")]:\n",
    "        if msg.get_property(\"dir\") == \"ltr\":\n",
    "            ult_mensaje = msg.text\n",
    "            # if msg.text != ult_mensaje:\n",
    "            if ult_mensaje not in mensajes:\n",
    "                # mensajes.append(msg.text)\n",
    "                mensajes.append(ult_mensaje)\n",
    "\n",
    "print(mensajes)\n",
    "ult_mensaje"
   ]
  },
  {
   "cell_type": "code",
   "execution_count": 31,
   "metadata": {},
   "outputs": [
    {
     "name": "stdout",
     "output_type": "stream",
     "text": [
      "+34 687 56 36 61\n",
      "687563661\n"
     ]
    }
   ],
   "source": [
    "from selenium import webdriver\n",
    "import re\n",
    "\n",
    "# Número de carla ux:\n",
    "\n",
    "# for msg in [x for x in driver.find_elements(by=\"css selector\", value=\"div.Mk0Bp._30scZ\")]:\n",
    "span_element = driver.find_elements(by=\"css selector\",value='div._2au8k span')\n",
    "\n",
    "# Obtener el texto dentro del span (que es el número de teléfono)\n",
    "numero_telefono = span_element[0].text\n",
    "\n",
    "# Imprimir el resultador\n",
    "# print(numero_telefono)\n",
    "\n",
    "# Utilizar expresiones regulares para extraer solo los dígitos\n",
    "num_limpio = re.sub(r'\\+\\d+\\s*', '', numero_telefono)\n",
    "num_limpio = int(num_limpio.replace(\" \", \"\"))\n",
    "\n",
    "# Imprimir el resultado\n",
    "print(numero_telefono)\n",
    "print(num_limpio)\n"
   ]
  }
 ],
 "metadata": {
  "kernelspec": {
   "display_name": "basic_ds",
   "language": "python",
   "name": "python3"
  },
  "language_info": {
   "codemirror_mode": {
    "name": "ipython",
    "version": 3
   },
   "file_extension": ".py",
   "mimetype": "text/x-python",
   "name": "python",
   "nbconvert_exporter": "python",
   "pygments_lexer": "ipython3",
   "version": "3.11.5"
  }
 },
 "nbformat": 4,
 "nbformat_minor": 2
}
